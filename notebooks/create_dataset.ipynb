{
 "cells": [
  {
   "cell_type": "code",
   "execution_count": 1,
   "id": "4d95e728",
   "metadata": {},
   "outputs": [],
   "source": [
    "import os\n",
    "import cv2\n",
    "import mediapipe as mp\n",
    "import pickle\n",
    "import warnings\n",
    "warnings.filterwarnings(\"ignore\")\n",
    "from tqdm import tqdm\n",
    "import matplotlib.pyplot as plt\n"
   ]
  },
  {
   "cell_type": "code",
   "execution_count": 2,
   "id": "e2e395c3",
   "metadata": {},
   "outputs": [],
   "source": [
    "mp_hands = mp.solutions.hands  # type: ignore[attr-defined]\n",
    "hands = mp_hands.Hands(static_image_mode=True, min_detection_confidence=0.3)"
   ]
  },
  {
   "cell_type": "code",
   "execution_count": null,
   "id": "8107762e",
   "metadata": {},
   "outputs": [],
   "source": [
    "# BASE_DIR = os.getcwd()  \n",
    "# DATA_DIR = os.path.join(BASE_DIR, '../data/train/images')\n",
    "# DATA_DIR = os.path.abspath(DATA_DIR)\n",
    "# SAVE_PATH = os.path.join(BASE_DIR, '../models/data.pickle')\n",
    "# os.makedirs(os.path.dirname(SAVE_PATH), exist_ok=True)\n",
    "\n",
    "# print(\"Looking for images in:\", DATA_DIR)"
   ]
  },
  {
   "cell_type": "code",
   "execution_count": null,
   "id": "e00e8a62",
   "metadata": {},
   "outputs": [],
   "source": [
    "# data =[]\n",
    "# labels =[]"
   ]
  },
  {
   "cell_type": "code",
   "execution_count": null,
   "id": "3dd9f0f6",
   "metadata": {},
   "outputs": [],
   "source": [
    "# for img_name in tqdm(os.listdir(DATA_DIR), desc=\"Processing images\"):\n",
    "#     img_file = os.path.join(DATA_DIR, img_name)\n",
    "#     if not os.path.isfile(img_file):\n",
    "#         continue\n",
    "\n",
    "#     img = cv2.imread(img_file)\n",
    "#     if img is None:\n",
    "#         print(f\"Failed to read {img_file}\")\n",
    "#         continue\n",
    "\n",
    "#     img_rgb = cv2.cvtColor(img, cv2.COLOR_BGR2RGB)\n",
    "#     result = hands.process(img_rgb)\n",
    "\n",
    "#     if result.multi_hand_landmarks:\n",
    "#         for hand_landmarks in result.multi_hand_landmarks:\n",
    "#             data_aux = []\n",
    "#             for i, lm in enumerate(hand_landmarks.landmark):\n",
    "#                 data_aux.append(lm.x)\n",
    "#                 data_aux.append(lm.y)\n",
    "#             data.append(data_aux)\n",
    "\n",
    "#             class_name = img_name.split('.')[0] \n",
    "#             labels.append(class_name)"
   ]
  },
  {
   "cell_type": "code",
   "execution_count": null,
   "id": "fd14b412",
   "metadata": {},
   "outputs": [],
   "source": [
    "# with open(SAVE_PATH, 'wb') as f:\n",
    "#     pickle.dump({'data': data, 'labels': labels}, f)\n",
    "# print(\"Dataset saved successfully to:\", SAVE_PATH)"
   ]
  },
  {
   "cell_type": "code",
   "execution_count": null,
   "id": "90985c2d",
   "metadata": {},
   "outputs": [],
   "source": [
    "# plt.figure(figsize=(10, 10))\n",
    "# for i, img_name in enumerate(list(os.listdir(DATA_DIR))[:5]):\n",
    "#     img_file = os.path.join(DATA_DIR, img_name)\n",
    "#     img = cv2.imread(img_file)\n",
    "#     if img is None:\n",
    "#         continue\n",
    "#     img_rgb = cv2.cvtColor(img, cv2.COLOR_BGR2RGB)\n",
    "#     result = hands.process(img_rgb)\n",
    "#     if result.multi_hand_landmarks:\n",
    "#         for hand_landmarks in result.multi_hand_landmarks:\n",
    "#             mp.solutions.drawing_utils.draw_landmarks(\n",
    "#                 img_rgb,\n",
    "#                 hand_landmarks,\n",
    "#                 mp_hands.HAND_CONNECTIONS\n",
    "#             )\n",
    "#     plt.subplot(1, 5, i+1)\n",
    "#     plt.imshow(img_rgb)\n",
    "#     plt.title(img_name.split('.')[0])\n",
    "#     plt.axis('off')\n",
    "# plt.show()"
   ]
  },
  {
   "cell_type": "code",
   "execution_count": 4,
   "id": "b64aff48",
   "metadata": {},
   "outputs": [
    {
     "name": "stdout",
     "output_type": "stream",
     "text": [
      "Looking for images in: d:\\ML projects\\models\\sign language detector\\data\\train\\images\n"
     ]
    },
    {
     "name": "stderr",
     "output_type": "stream",
     "text": [
      "Processing images: 100%|██████████| 120/120 [00:04<00:00, 25.46it/s]"
     ]
    },
    {
     "name": "stdout",
     "output_type": "stream",
     "text": [
      "Dataset created and saved successfully at ../models/data.pickle\n"
     ]
    },
    {
     "name": "stderr",
     "output_type": "stream",
     "text": [
      "\n"
     ]
    }
   ],
   "source": [
    "DATA_DIR = '../data/train/images'\n",
    "DATA_DIR = os.path.abspath(DATA_DIR)\n",
    "data = []\n",
    "labels = []\n",
    "\n",
    "print(\"Looking for images in:\", DATA_DIR)\n",
    "\n",
    "for img_name in tqdm(os.listdir(DATA_DIR), desc=\"Processing images\"):\n",
    "    img_file = os.path.join(DATA_DIR, img_name)\n",
    "    if not os.path.isfile(img_file):\n",
    "        continue\n",
    "\n",
    "    img = cv2.imread(img_file)\n",
    "    if img is None:\n",
    "        print(f\"Failed to read {img_file}\")\n",
    "        continue\n",
    "\n",
    "    img_rgb = cv2.cvtColor(img, cv2.COLOR_BGR2RGB)\n",
    "    result = hands.process(img_rgb)\n",
    "\n",
    "    if result.multi_hand_landmarks:\n",
    "        for hand_landmarks in result.multi_hand_landmarks:\n",
    "            data_aux = []\n",
    "            for lm in hand_landmarks.landmark:\n",
    "                data_aux.append(lm.x)\n",
    "                data_aux.append(lm.y)\n",
    "            \n",
    "            data.append(data_aux)\n",
    "\n",
    "            # Label from filename (before first dot)\n",
    "            class_name = img_name.split('.')[0]\n",
    "            labels.append(class_name)\n",
    "\n",
    "# Pad all feature vectors to the same length\n",
    "max_len = max(len(d) for d in data)\n",
    "data = [d + [0]*(max_len - len(d)) for d in data]\n",
    "\n",
    "# Save dataset\n",
    "SAVE_PATH = '../models/data.pickle'\n",
    "with open(SAVE_PATH, 'wb') as f:\n",
    "    pickle.dump({'data': data, 'labels': labels}, f)\n",
    "\n",
    "print(f\"Dataset created and saved successfully at {SAVE_PATH}\")"
   ]
  }
 ],
 "metadata": {
  "kernelspec": {
   "display_name": "venv311",
   "language": "python",
   "name": "python3"
  },
  "language_info": {
   "codemirror_mode": {
    "name": "ipython",
    "version": 3
   },
   "file_extension": ".py",
   "mimetype": "text/x-python",
   "name": "python",
   "nbconvert_exporter": "python",
   "pygments_lexer": "ipython3",
   "version": "3.11.9"
  }
 },
 "nbformat": 4,
 "nbformat_minor": 5
}
