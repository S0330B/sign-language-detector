{
 "cells": [
  {
   "cell_type": "code",
   "execution_count": null,
   "id": "ce13a728",
   "metadata": {},
   "outputs": [],
   "source": [
    "import cv2\n",
    "import mediapipe as mp\n",
    "import pickle\n",
    "import numpy as np\n",
    "import warnings\n",
    "warnings.filterwarnings('ignore')"
   ]
  },
  {
   "cell_type": "code",
   "execution_count": 3,
   "id": "228cefcd",
   "metadata": {},
   "outputs": [],
   "source": [
    "model_dict = pickle.load(open('../models/model.pickle', 'rb'))\n",
    "data_dict = pickle.load(open('../models/data.pickle', 'rb'))\n",
    "model = model_dict['model']"
   ]
  },
  {
   "cell_type": "code",
   "execution_count": 4,
   "id": "0fe48cf8",
   "metadata": {},
   "outputs": [
    {
     "name": "stdout",
     "output_type": "stream",
     "text": [
      "Available classes: ['Hello' 'IloveYou' 'No' 'Please' 'Thanks' 'Yes']\n"
     ]
    }
   ],
   "source": [
    "labels = np.unique(data_dict['labels'])\n",
    "print(\"Available classes:\", labels)"
   ]
  },
  {
   "cell_type": "code",
   "execution_count": 5,
   "id": "b1249be7",
   "metadata": {},
   "outputs": [],
   "source": [
    "max_len = max(len(l) for l in data_dict['data'])"
   ]
  },
  {
   "cell_type": "code",
   "execution_count": 6,
   "id": "353047a4",
   "metadata": {},
   "outputs": [],
   "source": [
    "mp_hands = mp.solutions.hands  # type: ignore[attr-defined]\n",
    "mp_drawing = mp.solutions.drawing_utils  # type: ignore[attr-defined]\n",
    "mp_drawing_styles = mp.solutions.drawing_styles  # type: ignore[attr-defined]\n",
    "\n",
    "hands = mp_hands.Hands(static_image_mode=False,\n",
    "                       max_num_hands=2,\n",
    "                       min_detection_confidence=0.3)\n",
    "\n",
    "cap = cv2.VideoCapture(0)\n",
    "\n",
    "while True:\n",
    "    ret, frame = cap.read()\n",
    "    if not ret:\n",
    "        print(\"❌ Failed to grab frame. Check camera index.\")\n",
    "        break\n",
    "\n",
    "    frame_rgb = cv2.cvtColor(frame, cv2.COLOR_BGR2RGB)\n",
    "    results = hands.process(frame_rgb)\n",
    "\n",
    "    if results.multi_hand_landmarks:\n",
    "        data_aux = []\n",
    "\n",
    "        for hand_landmarks in results.multi_hand_landmarks:\n",
    "            mp_drawing.draw_landmarks(\n",
    "                frame,\n",
    "                hand_landmarks,\n",
    "                mp_hands.HAND_CONNECTIONS,\n",
    "                mp_drawing_styles.get_default_hand_landmarks_style(),\n",
    "                mp_drawing_styles.get_default_hand_connections_style()\n",
    "            )\n",
    "            for lm in hand_landmarks.landmark:\n",
    "                data_aux.extend([lm.x, lm.y])\n",
    "\n",
    "        if len(data_aux) < max_len:\n",
    "            data_aux.extend([0] * (max_len - len(data_aux)))\n",
    "        elif len(data_aux) > max_len:\n",
    "            data_aux = data_aux[:max_len]\n",
    "\n",
    "        prediction = model.predict([np.asarray(data_aux)])\n",
    "        predicted_sign = prediction[0]\n",
    "\n",
    "        cv2.putText(frame, f\"Prediction: {predicted_sign}\", (10, 40),\n",
    "                    cv2.FONT_HERSHEY_SIMPLEX, 1, (0, 255, 0), 2)\n",
    "\n",
    "    cv2.imshow('Hand Sign Detection', frame)\n",
    "\n",
    "    if cv2.waitKey(1) & 0xFF == 27:\n",
    "        break\n",
    "\n",
    "cap.release()\n",
    "cv2.destroyAllWindows()"
   ]
  }
 ],
 "metadata": {
  "kernelspec": {
   "display_name": "venv311",
   "language": "python",
   "name": "python3"
  },
  "language_info": {
   "codemirror_mode": {
    "name": "ipython",
    "version": 3
   },
   "file_extension": ".py",
   "mimetype": "text/x-python",
   "name": "python",
   "nbconvert_exporter": "python",
   "pygments_lexer": "ipython3",
   "version": "3.11.9"
  }
 },
 "nbformat": 4,
 "nbformat_minor": 5
}
